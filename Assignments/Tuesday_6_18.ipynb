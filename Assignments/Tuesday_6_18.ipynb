{
 "cells": [
  {
   "cell_type": "markdown",
   "metadata": {},
   "source": [
    "Exercise 1: String Validator"
   ]
  },
  {
   "cell_type": "code",
   "execution_count": 34,
   "metadata": {},
   "outputs": [
    {
     "name": "stdout",
     "output_type": "stream",
     "text": [
      "Contains any alphanumeric characters:  True\n",
      "Contains any alphabetical characters:  True\n",
      "Contains any digits:  False\n",
      "Contains any lowercase characters:  True\n",
      "Contains any uppercase characters:  False\n"
     ]
    }
   ],
   "source": [
    "# 1. \n",
    "\n",
    "def string_validator(user_input: str):\n",
    "    alphanumeric = False\n",
    "    alphabetical = False\n",
    "    digits = False\n",
    "    lowercase = False\n",
    "    uppercase = False\n",
    "    \n",
    "    for char in user_input:\n",
    "        if (char.isalnum()):\n",
    "            alphanumeric = True\n",
    "        if (char.isalpha()):\n",
    "            alphabetical = True\n",
    "        if (char.isnumeric()):\n",
    "            digits = True\n",
    "        if (char.islower()):\n",
    "            lowercase = True\n",
    "        if (char.isupper()):\n",
    "            uppercase = True\n",
    "\n",
    "    print(\"Contains any alphanumeric characters: \", alphanumeric)\n",
    "    print(\"Contains any alphabetical characters: \", alphabetical)\n",
    "    print(\"Contains any digits: \", digits)\n",
    "    print(\"Contains any lowercase characters: \", lowercase)\n",
    "    print(\"Contains any uppercase characters: \", uppercase)\n",
    "\n",
    "\n",
    "string_validator(\"hello\")\n"
   ]
  },
  {
   "cell_type": "markdown",
   "metadata": {},
   "source": [
    "Exercise 2: Regular Expressions"
   ]
  },
  {
   "cell_type": "code",
   "execution_count": 77,
   "metadata": {},
   "outputs": [
    {
     "name": "stdout",
     "output_type": "stream",
     "text": [
      "<re.Match object; span=(0, 6), match='This11'>\n",
      "[' 1', ' 1']\n",
      "<re.Match object; span=(47, 56), match='patterns.'>\n",
      "['11', '23']\n",
      "['t']\n"
     ]
    }
   ],
   "source": [
    "import re\n",
    "\n",
    "test_string = \"This11 isss just23 a 1test 1string for finding patterns.\"\n",
    "\n",
    "# 1. any word at the beginning of a string\n",
    "match = re.search(r\"^\\w+\", test_string)\n",
    "print(match)\n",
    "\n",
    "# 2. Any time that the character after a whitespace is a digit\n",
    "match2 = re.findall(\" [0-9]\", test_string)\n",
    "print(match2)\n",
    "\n",
    "# 3. any word with punctuation at the end of a string\n",
    "match3 = re.search(r\"\\w+\\W$\", test_string)\n",
    "print(match3)\n",
    "\n",
    "# 4. any occurances of consecutive digits 1,2, or 3\n",
    "match4 = re.findall(\"[123][123]\", test_string)\n",
    "print(match4)\n",
    "\n",
    "# 5. any word with double letters (i.e. letter, filler, skill, parrot)\n",
    "match5 = re.findall(r\"\\b.*([a-zA-Z])\\1.*\\b\", test_string)\n",
    "print(match5)"
   ]
  },
  {
   "cell_type": "markdown",
   "metadata": {},
   "source": [
    "Exercise 3: Word Count"
   ]
  },
  {
   "cell_type": "code",
   "execution_count": 117,
   "metadata": {},
   "outputs": [
    {
     "name": "stdout",
     "output_type": "stream",
     "text": [
      "Words in Pride and Prejudice:  124467\n",
      "124749\n",
      "282\n"
     ]
    }
   ],
   "source": [
    "# Get an accurate word count of Pride and Prejudice starting with Chapter 1\n",
    "\n",
    "file_path = \"C:\\\\Users\\\\dhwea\\\\.jupyter\\\\20240617-DE-TS-LectureMaterials\\\\Python\\\\Data\\\\Pride_and_Prejudice.txt\"\n",
    "\n",
    "with open(file_path, mode = 'rt', encoding = 'utf-8-sig') as f:\n",
    "    book = f.read()\n",
    "    lines = book.split()   # splits the book into a list of each word\n",
    "\n",
    "counter = 0\n",
    "starting_index = 0\n",
    "#we need to find the index of the second Chapter 1, since the first is just the table of contents\n",
    "for i in range(len(lines) - 1):\n",
    "    # Check for \"Chapter\" followed by \"1\"\n",
    "    if lines[i] == \"Chapter\" and lines[i + 1] == \"1\":\n",
    "        counter += 1\n",
    "    # once we've found 2 \"Chapter 1\", the index tells us how many words have come before it\n",
    "    if counter == 2:\n",
    "        starting_index = i\n",
    "        counter += 1\n",
    "\n",
    "# The overall length of the list is the total number of words, so just subtract the words that came before Chapter 1\n",
    "total_words = len(lines) - starting_index\n",
    "print(\"Words in Pride and Prejudice: \", total_words)\n"
   ]
  },
  {
   "cell_type": "markdown",
   "metadata": {},
   "source": [
    "Exercise 4: Word Score"
   ]
  },
  {
   "cell_type": "code",
   "execution_count": 147,
   "metadata": {},
   "outputs": [
    {
     "name": "stdout",
     "output_type": "stream",
     "text": [
      "7\n"
     ]
    }
   ],
   "source": [
    "def word_score(*args):\n",
    "    vowel_count = 0\n",
    "    score = 0\n",
    "    total_score = 0\n",
    "    for word in args:\n",
    "        for char in word:\n",
    "            if (char in [\"a\", \"e\", \"i\", \"o\", \"u\", \"y\"]):\n",
    "                vowel_count += 1\n",
    "                if (vowel_count % 2 == 0):\n",
    "                    score = 2\n",
    "                else:\n",
    "                    score = 1\n",
    "\n",
    "            elif (char == \" \"):\n",
    "                total_score += score\n",
    "                score = 0\n",
    "                vowel_count = 0\n",
    "\n",
    "    total_score += score\n",
    "\n",
    "    return total_score\n",
    "\n",
    "print(word_score(\"this is not pretty at all\"))"
   ]
  }
 ],
 "metadata": {
  "kernelspec": {
   "display_name": "Python 3",
   "language": "python",
   "name": "python3"
  },
  "language_info": {
   "codemirror_mode": {
    "name": "ipython",
    "version": 3
   },
   "file_extension": ".py",
   "mimetype": "text/x-python",
   "name": "python",
   "nbconvert_exporter": "python",
   "pygments_lexer": "ipython3",
   "version": "3.10.1"
  }
 },
 "nbformat": 4,
 "nbformat_minor": 2
}
