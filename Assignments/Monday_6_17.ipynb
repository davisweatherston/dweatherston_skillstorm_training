{
 "cells": [
  {
   "cell_type": "markdown",
   "metadata": {},
   "source": [
    "Exercise 1: Working with Dates & Times"
   ]
  },
  {
   "cell_type": "code",
   "execution_count": 10,
   "metadata": {},
   "outputs": [
    {
     "name": "stdout",
     "output_type": "stream",
     "text": [
      "2024-06-17 15:20:24.612453\n",
      "2024-06-17\n",
      "71 days, 8:39:35.387547\n"
     ]
    }
   ],
   "source": [
    "import datetime\n",
    "\n",
    "date = datetime.datetime.now()\n",
    "\n",
    "# 1. Get current date and time\n",
    "print(date)\n",
    "\n",
    "# 2. Format the date as YYYY-MM-DD\n",
    "print(date.strftime(\"%Y-%m-%d\"))\n",
    "\n",
    "# 3. Calculate # of days until next birthday\n",
    "next_birthday = \"2024-08-28\"\n",
    "birthday_object = datetime.datetime.strptime(\n",
    "                                next_birthday, \"%Y-%m-%d\")\n",
    "print(birthday_object - date)\n"
   ]
  },
  {
   "cell_type": "markdown",
   "metadata": {},
   "source": [
    "Exercise 2: Dictionaries & Sets"
   ]
  },
  {
   "cell_type": "code",
   "execution_count": 31,
   "metadata": {},
   "outputs": [
    {
     "name": "stdout",
     "output_type": "stream",
     "text": [
      "{'Taylor': 'C', 'Tanner': 'B', 'Dillon': 'A'}\n",
      "{'Taylor': 'C', 'Tanner': 'B', 'Dillon': 'A', 'Hailey': 'B'}\n",
      "{'Taylor': {'English': 'C', 'Spanish': 'C', 'History': 'C'}, 'Tanner': {'English': 'B', 'Spanish': 'B', 'History': 'B'}, 'Dillon': {'English': 'A', 'Spanish': 'A', 'History': 'A'}, 'Hailey': {'English': 'B', 'Spanish': 'B', 'History': 'B'}}\n",
      "{'Taylor', 'Dillon', 'Tanner', 'Hailey'}\n"
     ]
    }
   ],
   "source": [
    "# 1. Create dictionary of 3 students & their grades\n",
    "student_grades = {\n",
    "    \"Taylor\" : \"C\",\n",
    "    \"Tanner\" : \"B\",\n",
    "    \"Dillon\" : \"A\"\n",
    "}\n",
    "print(student_grades)\n",
    "\n",
    "# 2. Add a fourth student\n",
    "student_grades[\"Hailey\"] = \"B\"\n",
    "print(student_grades)\n",
    "\n",
    "# 3. Change values to dictionary of classes\n",
    "for k, v in student_grades.items():\n",
    "    student_grades[k] = {\n",
    "        \"English\" : v,\n",
    "        \"Spanish\" : v,\n",
    "        \"History\" : v\n",
    "    }\n",
    "print(student_grades)\n",
    "\n",
    "# 4. Add all names of the students to a set\n",
    "my_set = {1}\n",
    "for k in student_grades.keys():\n",
    "    my_set.add(k)\n",
    "my_set.discard(1)\n",
    "print(my_set)\n"
   ]
  },
  {
   "cell_type": "markdown",
   "metadata": {},
   "source": [
    "Exercise 3: Advanced String Operations\n"
   ]
  },
  {
   "cell_type": "code",
   "execution_count": 37,
   "metadata": {},
   "outputs": [
    {
     "name": "stdout",
     "output_type": "stream",
     "text": [
      "['This', 'is', 'a', 'string']\n",
      "Hey|there|Delilah|whats\n",
      "There are 3 occurences of \"i\" in string1\n"
     ]
    }
   ],
   "source": [
    "# 1. Split a string into a list of words\n",
    "string1 = \"This is a string\"\n",
    "list1 = string1.split()\n",
    "print(list1)\n",
    "\n",
    "# 2. Join words into a single string with pipes separating them\n",
    "word1 = \"Hey\"\n",
    "word2 = \"there\"\n",
    "word3 = \"Delilah\" \n",
    "word4 = \"whats\" \n",
    "\n",
    "string2 = word1 + \"|\" + word2 + \"|\" + word3 + \"|\" + word4 \n",
    "print(string2)\n",
    "\n",
    "# 3. Count the # of occurences of a character in a string\n",
    "count = 0\n",
    "for char in string1:\n",
    "    if (char == \"i\"):\n",
    "        count += 1\n",
    "print(f\"There are {count} occurences of \\\"i\\\" in string1\")\n",
    "\n",
    "\n"
   ]
  },
  {
   "cell_type": "markdown",
   "metadata": {},
   "source": [
    "Exercise 4: Lists and Basic Operations"
   ]
  },
  {
   "cell_type": "code",
   "execution_count": 41,
   "metadata": {},
   "outputs": [
    {
     "name": "stdout",
     "output_type": "stream",
     "text": [
      "[11, 2, 3, 4, 5]\n",
      "[11, 2, 3, 4, 5, 79]\n",
      "[11, 3, 4, 5, 79]\n",
      "[3, 4, 5, 11, 79]\n"
     ]
    }
   ],
   "source": [
    "# 1. Create a list of integers\n",
    "list2 = [11, 2, 3, 4, 5]\n",
    "print(list2)\n",
    "\n",
    "# 2. Append an integer to the list\n",
    "list2.append(79)\n",
    "print(list2)\n",
    "\n",
    "# 3. Remove an integer from the list\n",
    "list2.remove(2)\n",
    "print(list2)\n",
    "\n",
    "# 4. Sort the list in ascending order\n",
    "list2.sort()\n",
    "print(list2)"
   ]
  },
  {
   "cell_type": "markdown",
   "metadata": {},
   "source": [
    "Challenge 1: List Comprehension and Filtering"
   ]
  },
  {
   "cell_type": "code",
   "execution_count": 44,
   "metadata": {},
   "outputs": [
    {
     "name": "stdout",
     "output_type": "stream",
     "text": [
      "[1, 4, 9, 16, 25, 36, 49, 64, 81, 100]\n",
      "[4, 16, 36, 64, 100]\n"
     ]
    }
   ],
   "source": [
    "# 1. Using list comprehension, create a list of square of integers 1-10\n",
    "list3 = [i**2 for i in range(11) if i > 0]\n",
    "print(list3)\n",
    "\n",
    "# 2. Filter a list to only include even numbers\n",
    "for number in list3:\n",
    "    if (number % 2 != 0):\n",
    "        list3.remove(number)\n",
    "\n",
    "print(list3)\n",
    "\n",
    "# 3. Dictionary comprehension to create a dict from 2 lists"
   ]
  },
  {
   "cell_type": "markdown",
   "metadata": {},
   "source": [
    "Challenge 2: Complex Date and Time Operations"
   ]
  },
  {
   "cell_type": "code",
   "execution_count": 46,
   "metadata": {},
   "outputs": [
    {
     "name": "stdout",
     "output_type": "stream",
     "text": [
      "2024-06-17 00:00:00\n"
     ]
    }
   ],
   "source": [
    "# 1. Parse a string into a datetime object\n",
    "import datetime\n",
    "datetime_string = \"24-17-06\"\n",
    "datetime_object = datetime.datetime.strptime(datetime_string, \"%y-%d-%m\")\n",
    "print(datetime_object)\n",
    "\n",
    "# Create a function that takes 2 dates and returns # of weekdays between them\n",
    "def weekdays_calculator(date1, date2):\n",
    "    return date1 - date2"
   ]
  }
 ],
 "metadata": {
  "kernelspec": {
   "display_name": "Python 3",
   "language": "python",
   "name": "python3"
  },
  "language_info": {
   "codemirror_mode": {
    "name": "ipython",
    "version": 3
   },
   "file_extension": ".py",
   "mimetype": "text/x-python",
   "name": "python",
   "nbconvert_exporter": "python",
   "pygments_lexer": "ipython3",
   "version": "3.10.1"
  }
 },
 "nbformat": 4,
 "nbformat_minor": 2
}
