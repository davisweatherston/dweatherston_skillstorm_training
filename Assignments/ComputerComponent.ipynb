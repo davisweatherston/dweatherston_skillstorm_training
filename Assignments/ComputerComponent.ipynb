{
 "cells": [
  {
   "cell_type": "code",
   "execution_count": 15,
   "metadata": {},
   "outputs": [],
   "source": [
    "class ComputerComponent:\n",
    "    def __init__(self, manufacturer, model, serial_number):\n",
    "        self.manufacturer = manufacturer\n",
    "        self.model = model\n",
    "        self.serial_number = serial_number\n",
    "\n",
    "    def display_details(self):\n",
    "        return f\"Manufacturer: {self.manufacturer}, Model: {self.model}, Serial Number: {self.serial_number}\"\n",
    "\n",
    "class CPU(ComputerComponent):\n",
    "    def __init__(self, manufacturer, model, serial_number, cores, clock_speed):\n",
    "        super().__init__(manufacturer, model, serial_number)\n",
    "        self.cores = cores\n",
    "        self.clock_speed = clock_speed\n",
    "\n",
    "    def display_details(self):\n",
    "        base_details = super().display_details()\n",
    "        return f\"{base_details}, Cores: {self.cores}, Clock Speed: {self.clock_speed} GHz\"\n",
    "\n",
    "class Memory(ComputerComponent):\n",
    "    def __init__(self, manufacturer, model, serial_number, capacity):\n",
    "        super().__init__(manufacturer, model, serial_number)\n",
    "        self.capacity = capacity\n",
    "\n",
    "    def display_details(self):\n",
    "        base_details = super().display_details()\n",
    "        return f\"{base_details}, Capacity: {self.capacity} GB\"\n",
    "\n",
    "class Storage(ComputerComponent):\n",
    "    def __init__(self, manufacturer, model, serial_number, storage_type, size):\n",
    "        super().__init__(manufacturer, model, serial_number)\n",
    "        self.storage_type = storage_type\n",
    "        self.size = size\n",
    "\n",
    "    def display_details(self):\n",
    "        base_details = super().display_details()\n",
    "        return f\"{base_details}, Storage Type: {self.storage_type}, Size: {self.size} GB\"\n",
    "\n"
   ]
  },
  {
   "cell_type": "code",
   "execution_count": 16,
   "metadata": {},
   "outputs": [],
   "source": [
    "class Computer:\n",
    "    def __init__(self, cpu, memory, storage):\n",
    "        self.cpu = cpu\n",
    "        self.memory = memory\n",
    "        self.storage = storage\n",
    "\n",
    "    def display_computer_info(self):\n",
    "        cpu_details = self.cpu.display_details()\n",
    "        memory_details = self.memory.display_details()\n",
    "        storage_details = self.storage.display_details()\n",
    "        return f\"CPU: {cpu_details}\\nMemory: {memory_details}\\nStorage: {storage_details}\"\n",
    "\n",
    "    "
   ]
  },
  {
   "cell_type": "code",
   "execution_count": 18,
   "metadata": {},
   "outputs": [
    {
     "name": "stdout",
     "output_type": "stream",
     "text": [
      "CPU: Manufacturer: Intel, Model: i7-10700K, Serial Number: 123456, Cores: 8, Clock Speed: 3.8 GHz\n",
      "Memory: Manufacturer: Corsair, Model: Vengeance, Serial Number: 789012, Capacity: 16 GB\n",
      "Storage: Manufacturer: Samsung, Model: EVO, Serial Number: 345678, Storage Type: SSD, Size: 512 GB\n"
     ]
    }
   ],
   "source": [
    "# Create component instances\n",
    "cpu = CPU(manufacturer=\"Intel\", model=\"i7-10700K\", serial_number=\"123456\", cores=8, clock_speed=3.8)\n",
    "memory = Memory(manufacturer=\"Corsair\", model=\"Vengeance\", serial_number=\"789012\", capacity=16)\n",
    "storage = Storage(manufacturer=\"Samsung\", model=\"EVO\", serial_number=\"345678\", storage_type=\"SSD\", size=512)\n",
    "\n",
    "# Create a Computer instance\n",
    "computer = Computer(cpu=cpu, memory=memory, storage=storage)\n",
    "\n",
    "# Display computer details\n",
    "print(computer.display_computer_info())"
   ]
  }
 ],
 "metadata": {
  "kernelspec": {
   "display_name": ".venv",
   "language": "python",
   "name": "python3"
  },
  "language_info": {
   "codemirror_mode": {
    "name": "ipython",
    "version": 3
   },
   "file_extension": ".py",
   "mimetype": "text/x-python",
   "name": "python",
   "nbconvert_exporter": "python",
   "pygments_lexer": "ipython3",
   "version": "3.10.1"
  }
 },
 "nbformat": 4,
 "nbformat_minor": 2
}
